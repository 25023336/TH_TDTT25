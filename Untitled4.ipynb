{
 "cells": [
  {
   "cell_type": "code",
   "execution_count": 2,
   "id": "d895c951-9f56-44e0-a159-d9d491d910db",
   "metadata": {},
   "outputs": [
    {
     "name": "stdin",
     "output_type": "stream",
     "text": [
      "Nhập vào chiều dài a : 3\n",
      "Nhập vào chiều rộng b : 2\n"
     ]
    },
    {
     "name": "stdout",
     "output_type": "stream",
     "text": [
      "Diện tích hình chữ nhật là:  6.0\n",
      "Chu vi hình chữ nhật là:  10.0\n"
     ]
    }
   ],
   "source": [
    "#bai1\n",
    "a = float(input(\"Nhập vào chiều dài a :\"))\n",
    "b = float(input(\"Nhập vào chiều rộng b :\"))\n",
    "S = a * b\n",
    "P = (a + b) * 2\n",
    "print (\"Diện tích hình chữ nhật là: \",S)\n",
    "print (\"Chu vi hình chữ nhật là: \",P)"
   ]
  },
  {
   "cell_type": "code",
   "execution_count": 6,
   "id": "14df17b0-3b8b-4d51-87d6-d668992f62e9",
   "metadata": {},
   "outputs": [
    {
     "name": "stdin",
     "output_type": "stream",
     "text": [
      "Nhập vào bán kính r: 5\n"
     ]
    },
    {
     "name": "stdout",
     "output_type": "stream",
     "text": [
      "Diện tích hình tròn là: 78.53981633974483\n",
      "Chu vi hình tròn là: 31.41592653589793\n"
     ]
    }
   ],
   "source": [
    "#bai2\n",
    "import math \n",
    "r = float(input(\"Nhập vào bán kính r:\"))\n",
    "S = math.pi * (r**2)\n",
    "P = 2 * math.pi * r\n",
    "print (\"Diện tích hình tròn là:\",S)\n",
    "print (\"Chu vi hình tròn là:\",P)"
   ]
  },
  {
   "cell_type": "code",
   "execution_count": 9,
   "id": "0a672309-21fb-4509-9923-fd32715f9bbc",
   "metadata": {},
   "outputs": [
    {
     "name": "stdin",
     "output_type": "stream",
     "text": [
      "Nhập vào cạnh a: 3 \n",
      "Nhập vào cạnh b: 4\n",
      "Nhập vào cạnh c: 5\n"
     ]
    },
    {
     "name": "stdout",
     "output_type": "stream",
     "text": [
      "Tam giác vuông\n"
     ]
    }
   ],
   "source": [
    "#bai3\n",
    "import math \n",
    "a = float(input(\"Nhập vào cạnh a:\"))\n",
    "b = float(input(\"Nhập vào cạnh b:\"))\n",
    "c = float(input(\"Nhập vào cạnh c:\"))\n",
    "if (a+b<=c) or (a+c<=b) or (b+c<=a):\n",
    "    print(\"Không là ba cạnh của một tam giác\")\n",
    "else: \n",
    "    if a==b==c:\n",
    "        print(\"Tam giác đều\")\n",
    "    elif a==b or b==c or a==c:\n",
    "        print(\"Tam giác cân\")\n",
    "    elif (abs (a*a+b*b-c*c) < 1e-9) or (abs(b*b+c*c-a*a) < 1e-9) or (abs(a*a+c*c-b*b) < 1e-9):\n",
    "        print(\"Tam giác vuông\")\n",
    "    else:\n",
    "        print(\"Tam giác thường\")\n",
    "    "
   ]
  },
  {
   "cell_type": "code",
   "execution_count": 10,
   "id": "61361435-d11e-43d3-8f1a-fd5c8c5af0da",
   "metadata": {},
   "outputs": [
    {
     "name": "stdin",
     "output_type": "stream",
     "text": [
      "Nhập vào a: 4\n",
      "Nhập vào b: 5\n"
     ]
    },
    {
     "name": "stdout",
     "output_type": "stream",
     "text": [
      "Phương trình có nghiệm là: -1.25\n"
     ]
    }
   ],
   "source": [
    "#bai4: Giai PT bac nhat ax+b=0\n",
    "a = float(input(\"Nhập vào a:\"))\n",
    "b = float(input(\"Nhập vào b:\"))\n",
    "if a==0:\n",
    "    if b==0:\n",
    "        print(\"Phương trình có vô số nghiệm\")\n",
    "    else:\n",
    "        print(\"Phương trình vô nghiệm\")\n",
    "else: \n",
    "    if b==0:\n",
    "        print(\"Phương trình có nghiệm là 0\")\n",
    "    else:\n",
    "        x= - b/a\n",
    "        print(\"Phương trình có nghiệm là:\",x)"
   ]
  },
  {
   "cell_type": "code",
   "execution_count": 3,
   "id": "bd582789-c805-47b5-908d-c49e77b538ee",
   "metadata": {},
   "outputs": [
    {
     "name": "stdin",
     "output_type": "stream",
     "text": [
      "Nhập vào a: 18\n",
      "Nhập vào b: 12\n",
      "Nhập vào c: 1996\n"
     ]
    },
    {
     "name": "stdout",
     "output_type": "stream",
     "text": [
      "Phương trình vô nghiệm\n"
     ]
    }
   ],
   "source": [
    "#bai5: Giai PT bac hai ax^2+bx+c=0\n",
    "a = float(input(\"Nhập vào a:\"))\n",
    "b = float(input(\"Nhập vào b:\"))\n",
    "c = float(input(\"Nhập vào c:\"))\n",
    "if a==0:\n",
    "    if b==0:\n",
    "        if c==0:\n",
    "            print(\"Phương trình có vô số nghiệm\")\n",
    "        else:\n",
    "            print(\"Phương trình vô nghiệm\")\n",
    "    else:\n",
    "        x= -c/b\n",
    "        print(\"Phương trình có nghiệm:\",x)\n",
    "    \n",
    "else:\n",
    "    delta = b**2-4*a*c\n",
    "    if delta < 0:\n",
    "        print(\"Phương trình vô nghiệm\")\n",
    "    elif delta > 0:\n",
    "        x1 = (-b + delta**0.5)/(2*a)\n",
    "        x2 = (-b - delta**0.5)/(2*a)\n",
    "        print (\"Phương trình có 2 nghiệm:\", x1, x2)\n",
    "    else:\n",
    "        x= -b/2*a\n",
    "        print(\"Phương trình có nghiệm:\",x)\n",
    "        "
   ]
  },
  {
   "cell_type": "code",
   "execution_count": 7,
   "id": "c1222259-9a68-479d-9d0f-323ba05be1d2",
   "metadata": {},
   "outputs": [
    {
     "name": "stdin",
     "output_type": "stream",
     "text": [
      " 18 3 22 17\n"
     ]
    },
    {
     "name": "stdout",
     "output_type": "stream",
     "text": [
      "22\n"
     ]
    }
   ],
   "source": [
    "#bai6\n",
    "a,b,c,d = map(int,input().split())\n",
    "lon_nhat = max(a,b,c,d)\n",
    "print(lon_nhat)\n",
    "   "
   ]
  },
  {
   "cell_type": "code",
   "execution_count": 8,
   "id": "b5255f09-c828-4ee2-ae00-e67aee1af648",
   "metadata": {},
   "outputs": [
    {
     "name": "stdin",
     "output_type": "stream",
     "text": [
      " 3 17 22 18\n"
     ]
    },
    {
     "name": "stdout",
     "output_type": "stream",
     "text": [
      "3\n"
     ]
    }
   ],
   "source": [
    "#bai 7\n",
    "a,b,c,d = map(int,input().split())\n",
    "nho_nhat = min(a,b,c,d)\n",
    "print(nho_nhat)"
   ]
  },
  {
   "cell_type": "code",
   "execution_count": 9,
   "id": "05998a13-367e-42d3-9bc6-1302419c4b71",
   "metadata": {},
   "outputs": [
    {
     "name": "stdin",
     "output_type": "stream",
     "text": [
      " 5 7 6 8 9 2\n"
     ]
    },
    {
     "name": "stdout",
     "output_type": "stream",
     "text": [
      "Hệ có nghiệm duy nhất: (-29.0, 22.0)\n"
     ]
    }
   ],
   "source": [
    "#bai 8: giải hệ pt tuyến tính\n",
    "a,b,c,d,m,n = map(float,input().split())\n",
    "delta = a*d-b*c\n",
    "if delta != 0:\n",
    "    x = (m*d-b*n)/delta\n",
    "    y= (a*n-m*c)/delta\n",
    "    print(\"Hệ có nghiệm duy nhất:\",(x,y))\n",
    "else:\n",
    "    Dx= m*d-b*n\n",
    "    Dy= a*n -m*c\n",
    "    if Dx==0 and Dy==0:\n",
    "        print(\"Hệ có vô số nghiệm\")\n",
    "    else:\n",
    "        print(\"Hệ vô nghiệm\")"
   ]
  },
  {
   "cell_type": "code",
   "execution_count": 10,
   "id": "3a0c143d-079a-4e63-adf1-9565c2b91e9f",
   "metadata": {},
   "outputs": [
    {
     "name": "stdin",
     "output_type": "stream",
     "text": [
      "Nhập vào thời gian (giây): 8112\n"
     ]
    },
    {
     "name": "stdout",
     "output_type": "stream",
     "text": [
      "8112 giây = 2 giờ 15 phút 12 giây\n"
     ]
    }
   ],
   "source": [
    "#bai 9\n",
    "x = int(input(\"Nhập vào thời gian (giây):\"))\n",
    "gio = x//3600\n",
    "phut = (x % 3600)//60\n",
    "giay = x % 60\n",
    "print(f\"{x} giây = {gio} giờ {phut} phút {giay} giây\")"
   ]
  },
  {
   "cell_type": "code",
   "execution_count": 14,
   "id": "101de557-6e9f-42ac-8ed7-7edb14f93366",
   "metadata": {},
   "outputs": [
    {
     "name": "stdin",
     "output_type": "stream",
     "text": [
      "Nhập hoành độ của tâm: 2\n",
      "Nhập tung độ của tâm: 4\n",
      "Nhập bán kính: 1\n",
      "Nhập hoành độ điểm A: 3\n",
      "Nhập tung độ điểm A: 6\n"
     ]
    },
    {
     "name": "stdout",
     "output_type": "stream",
     "text": [
      "Điểm A nằm ngoài đường tròn\n"
     ]
    }
   ],
   "source": [
    "#bai 10\n",
    "import math \n",
    "x0 = float(input(\"Nhập hoành độ của tâm:\"))\n",
    "y0 = float(input(\"Nhập tung độ của tâm:\"))\n",
    "r = float(input(\"Nhập bán kính:\"))\n",
    "x = float(input(\"Nhập hoành độ điểm A:\"))\n",
    "y = float(input(\"Nhập tung độ điểm A:\"))\n",
    "d = math.sqrt((x-x0)**2 + (y-y0)**2)\n",
    "if d - r == 0:\n",
    "    print(\"Điểm A nằm trên đường tròn\")\n",
    "elif d < r:\n",
    "    print(\"Điểm A nằm trong đường tròn\")\n",
    "else:\n",
    "    print(\"Điểm A nằm ngoài đường tròn\")"
   ]
  },
  {
   "cell_type": "code",
   "execution_count": 11,
   "id": "c761bf80-ff83-450a-9d28-d6b428156bda",
   "metadata": {},
   "outputs": [
    {
     "name": "stdin",
     "output_type": "stream",
     "text": [
      " 6 3\n"
     ]
    },
    {
     "name": "stdout",
     "output_type": "stream",
     "text": [
      "216.0\n"
     ]
    }
   ],
   "source": [
    "#bai 11\n",
    "x,y = map(float,input().split())\n",
    "a = x**y\n",
    "print (a)"
   ]
  },
  {
   "cell_type": "code",
   "execution_count": null,
   "id": "3ecee22f-0473-49cb-9e12-c67b7a3bc746",
   "metadata": {},
   "outputs": [],
   "source": []
  }
 ],
 "metadata": {
  "kernelspec": {
   "display_name": "Python 3 (ipykernel)",
   "language": "python",
   "name": "python3"
  },
  "language_info": {
   "codemirror_mode": {
    "name": "ipython",
    "version": 3
   },
   "file_extension": ".py",
   "mimetype": "text/x-python",
   "name": "python",
   "nbconvert_exporter": "python",
   "pygments_lexer": "ipython3",
   "version": "3.13.5"
  }
 },
 "nbformat": 4,
 "nbformat_minor": 5
}
