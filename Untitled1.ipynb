{
 "cells": [
  {
   "cell_type": "code",
   "execution_count": 1,
   "id": "1f892a3c-3315-44f8-a0fd-b5a5b2b14de0",
   "metadata": {},
   "outputs": [
    {
     "name": "stdin",
     "output_type": "stream",
     "text": [
      " 5\n"
     ]
    },
    {
     "name": "stdout",
     "output_type": "stream",
     "text": [
      "10.0\n"
     ]
    }
   ],
   "source": [
    "#bai 1\n",
    "a = float(input())\n",
    "T = 2 * a\n",
    "print(T)"
   ]
  },
  {
   "cell_type": "code",
   "execution_count": 2,
   "id": "b1d67219-dcfd-4ba7-b3bb-40a0b438c3b9",
   "metadata": {},
   "outputs": [
    {
     "name": "stdin",
     "output_type": "stream",
     "text": [
      "chieu rong:  30\n",
      "chieu dai:  50\n"
     ]
    },
    {
     "name": "stdout",
     "output_type": "stream",
     "text": [
      "793.50\n"
     ]
    }
   ],
   "source": [
    "#bai 2\n",
    "a = int(input(\"chieu rong: \"))\n",
    "b = int(input(\"chieu dai: \"))\n",
    "S = (a * b) - (((a/2)**2)*(3.14))\n",
    "print(f'{S:.2f}')"
   ]
  },
  {
   "cell_type": "code",
   "execution_count": 2,
   "id": "edb462eb-f100-456e-8a9e-588c09579552",
   "metadata": {},
   "outputs": [
    {
     "name": "stdin",
     "output_type": "stream",
     "text": [
      "Nhập 1 kí tự:  a\n"
     ]
    },
    {
     "name": "stdout",
     "output_type": "stream",
     "text": [
      "A"
     ]
    }
   ],
   "source": [
    "#bai 3\n",
    "c = input (\"Nhập 1 kí tự: \")\n",
    "for i in c:\n",
    "    if i.islower():\n",
    "        print(i.upper(),end='')\n",
    "    else:\n",
    "        print(i.lower(),end='')\n",
    "\n"
   ]
  },
  {
   "cell_type": "code",
   "execution_count": 4,
   "id": "18b6c342-738e-4ef5-a93a-a42bfcc1b99b",
   "metadata": {},
   "outputs": [
    {
     "name": "stdin",
     "output_type": "stream",
     "text": [
      "Nhập 1 kí tự:  a\n"
     ]
    },
    {
     "name": "stdout",
     "output_type": "stream",
     "text": [
      "'a' là kí tự alphabet\n"
     ]
    }
   ],
   "source": [
    "#bai 4\n",
    "c = input (\"Nhập 1 kí tự: \")\n",
    "if c.isalpha():\n",
    "    print(f\"'{c}' là kí tự alphabet\")\n",
    "else:\n",
    "    print(f\"'{c}' không phải là kí tự alphabet\")"
   ]
  },
  {
   "cell_type": "code",
   "execution_count": 8,
   "id": "fb115e2a-0bf3-4149-bff4-3bc1dc34ae92",
   "metadata": {},
   "outputs": [
    {
     "name": "stdin",
     "output_type": "stream",
     "text": [
      "Nhập 1 chữ cái hoa (A-Z):  F\n"
     ]
    },
    {
     "name": "stdout",
     "output_type": "stream",
     "text": [
      "Chữ cái thường liền trước 'f' là 'e'\n"
     ]
    }
   ],
   "source": [
    "#bai 5 \n",
    "c = input(\"Nhập 1 chữ cái hoa (A-Z): \")\n",
    "if c.isupper():\n",
    "    if c == 'A':\n",
    "        print(\"Trường hợp đặc biệt: trước 'a' không có chữ cái nào.\")\n",
    "    else:\n",
    "        prev_char = chr(ord(c.lower()) - 1)\n",
    "        print (f\"Chữ cái thường liền trước '{c.lower()}' là '{prev_char}'\")"
   ]
  },
  {
   "cell_type": "code",
   "execution_count": 3,
   "id": "61bfcf98-a376-43ef-baaa-8f06c4589332",
   "metadata": {},
   "outputs": [
    {
     "name": "stdin",
     "output_type": "stream",
     "text": [
      "Nhập cạnh a:  3\n",
      "Nhập cạnh b:  4\n",
      "Nhập cạnh c:  5\n"
     ]
    },
    {
     "name": "stdout",
     "output_type": "stream",
     "text": [
      "Diện tích tam giác: 6.0\n"
     ]
    }
   ],
   "source": [
    "#bai 6\n",
    "import math \n",
    "a = float(input(\"Nhập cạnh a: \"))\n",
    "b = float(input(\"Nhập cạnh b: \"))\n",
    "c = float(input(\"Nhập cạnh c: \"))\n",
    "if a>0 and b>0 and c>0 and (a+b>c) and (a+c>b) and (b+c>a):\n",
    "          p = (a+b+c)/2\n",
    "          S= math.sqrt (p * (p-a) * (p-b) * (p-c))\n",
    "          print(f\"Diện tích tam giác: {S:.1f}\")\n",
    "else:\n",
    "          print(\"Không phải 3 cạnh của tam giác\")"
   ]
  },
  {
   "cell_type": "code",
   "execution_count": 8,
   "id": "247ba7b2-c9ec-439f-a1e2-377870cca7b8",
   "metadata": {},
   "outputs": [
    {
     "name": "stdin",
     "output_type": "stream",
     "text": [
      "Nhập các kí tự:  abcdefghiklmnokbmvvvsnc\n"
     ]
    },
    {
     "name": "stdout",
     "output_type": "stream",
     "text": [
      "chữ cái thứ 5 là e\n",
      "chữ cái thứ 9 là i\n"
     ]
    }
   ],
   "source": [
    "#bai 7\n",
    "chuoi = input(\"Nhập các kí tự: \")\n",
    "if chuoi.islower() and len(chuoi) >=20:\n",
    "    print(\"chữ cái thứ 5 là\", chuoi[4])\n",
    "    print(\"chữ cái thứ 9 là\", chuoi[8])\n",
    "else:\n",
    "    print(\"Chuỗi không hợp lệe\")"
   ]
  },
  {
   "cell_type": "code",
   "execution_count": 17,
   "id": "728296c6-6b26-4fac-98e3-b5636d760bb6",
   "metadata": {},
   "outputs": [
    {
     "name": "stdin",
     "output_type": "stream",
     "text": [
      "Nhập vào họ và tên chủ hộ: Nguyễn Xuân Hải\n",
      "Nhập vào chỉ số điện kế tháng trước: 2000\n",
      "Nhập vào chỉ số điện tháng sau: 2568\n"
     ]
    },
    {
     "name": "stdout",
     "output_type": "stream",
     "text": [
      "Họ và tên: Nguyễn Xuân Hải\n",
      "Số điện tiêu thụ: 568\n",
      "Tổng tiền phải trả: 1788242.4000000001\n"
     ]
    }
   ],
   "source": [
    "#bai 8\n",
    "ten = input(\"Nhập vào họ và tên chủ hộ:\")\n",
    "cs_truoc = int(input(\"Nhập vào chỉ số điện kế tháng trước:\"))\n",
    "cs_sau = int(input(\"Nhập vào chỉ số điện tháng sau:\"))\n",
    "so_kwh = cs_sau - cs_truoc\n",
    "if so_kwh < 0:\n",
    "    print (\"Chỉ số không xác định\")\n",
    "else:\n",
    "    if so_kwh <= 50:\n",
    "        tien = so_kwh * 1984\n",
    "    elif so_kwh <= 100:\n",
    "        tien = 50*1984 + (so_kwh - 50) * 2050\n",
    "    elif so_kwh <= 200:\n",
    "        tien = 50*1984 + 50*2050 + (so_kwh - 100) * 2380\n",
    "    elif so_kwh <= 300:\n",
    "        tien = 50*1984 + 50*2050 + 100*2380 + (so_kwh - 200) * 2998\n",
    "    elif so_kwh <= 400:\n",
    "        tien = 50*1984 + 50*2050 + 100*2380 + 100*2998 + (so_kwh - 300) * 3350\n",
    "    else:\n",
    "        tien = 50*1984 + 50*2050 + 100*2380 + 100*2998 + 100*3350 + (so_kwh - 400) * 3460\n",
    "tong = tien * 1.08\n",
    "print (\"Họ và tên:\", ten)\n",
    "print (\"Số điện tiêu thụ:\", so_kwh)\n",
    "print (\"Tổng tiền phải trả:\", tong)"
   ]
  },
  {
   "cell_type": "code",
   "execution_count": 20,
   "id": "5593c2c4-a2e2-4144-a0cc-5c2d643059b8",
   "metadata": {},
   "outputs": [
    {
     "name": "stdin",
     "output_type": "stream",
     "text": [
      "Nhập vào 1 số nguyên: 2\n"
     ]
    },
    {
     "name": "stdout",
     "output_type": "stream",
     "text": [
      "Đây là số chẵn\n"
     ]
    }
   ],
   "source": [
    "#1\n",
    "n = int(input(\"Nhập vào 1 số nguyên:\"))\n",
    "if n % 2 == 0:\n",
    "    print(\"Đây là số chẵn\")\n",
    "else:\n",
    "    print(\"Đây là số lẻ\")"
   ]
  },
  {
   "cell_type": "code",
   "execution_count": 21,
   "id": "3186ec4a-49f2-4d59-acd6-1f45e3ba4a0b",
   "metadata": {},
   "outputs": [
    {
     "name": "stdin",
     "output_type": "stream",
     "text": [
      "Nhập vào 1 số nguyên: 7\n"
     ]
    },
    {
     "name": "stdout",
     "output_type": "stream",
     "text": [
      "False\n"
     ]
    }
   ],
   "source": [
    "#2\n",
    "n = int(input(\"Nhập vào 1 số nguyên:\"))\n",
    "if n % 10 == 5:\n",
    "    print(\"True\")\n",
    "else:\n",
    "    print(\"False\")"
   ]
  },
  {
   "cell_type": "code",
   "execution_count": 23,
   "id": "3027cc66-dafc-4ed3-885d-3ed0102cceaa",
   "metadata": {},
   "outputs": [
    {
     "name": "stdin",
     "output_type": "stream",
     "text": [
      "Nhập vào 1 số nguyên: 70\n"
     ]
    },
    {
     "name": "stdout",
     "output_type": "stream",
     "text": [
      "False\n"
     ]
    }
   ],
   "source": [
    "#3\n",
    "n = int(input(\"Nhập vào 1 số nguyên:\"))\n",
    "if n % 15 == 0:\n",
    "   print (\"True\")\n",
    "else:\n",
    "   print (\"False\")\n"
   ]
  },
  {
   "cell_type": "code",
   "execution_count": 25,
   "id": "fa7c0367-47ea-4f4a-9cd4-0ef99fb14510",
   "metadata": {},
   "outputs": [
    {
     "name": "stdin",
     "output_type": "stream",
     "text": [
      "Nhập vào năm sinh: 29\n"
     ]
    },
    {
     "name": "stdout",
     "output_type": "stream",
     "text": [
      "Đủ tuổi đi bầu cử\n"
     ]
    }
   ],
   "source": [
    "#4\n",
    "year = int(input(\"Nhập vào năm sinh:\"))\n",
    "if year >= 18:\n",
    "    print (\"Đủ tuổi đi bầu cử\")\n",
    "else:\n",
    "    print (\"Chưa đủ tuổi đi bầu cử\")"
   ]
  },
  {
   "cell_type": "code",
   "execution_count": 34,
   "id": "2fac28f3-977c-4561-8b04-94bbfa467cd4",
   "metadata": {},
   "outputs": [
    {
     "name": "stdin",
     "output_type": "stream",
     "text": [
      " 18 12\n"
     ]
    },
    {
     "name": "stdout",
     "output_type": "stream",
     "text": [
      "18\n"
     ]
    }
   ],
   "source": [
    "#5\n",
    "a,b = map(int,input().split())\n",
    "if a>b:\n",
    "    print(a)\n",
    "elif a<b:\n",
    "    print(b)\n",
    "else:\n",
    "    print(\"2 số bằng nhau\")"
   ]
  },
  {
   "cell_type": "code",
   "execution_count": 36,
   "id": "50505454-ce96-4bfe-8a4f-7600a4940ee9",
   "metadata": {},
   "outputs": [
    {
     "name": "stdin",
     "output_type": "stream",
     "text": [
      " 7474\n"
     ]
    },
    {
     "name": "stdout",
     "output_type": "stream",
     "text": [
      "a là chữ số\n"
     ]
    }
   ],
   "source": [
    "#6\n",
    "a = input()\n",
    "if a.isalpha ():\n",
    "    print(\"a là chữ cái\")\n",
    "if a.isdigit ():\n",
    "    print(\"a là chữ số\")"
   ]
  },
  {
   "cell_type": "code",
   "execution_count": 39,
   "id": "5047ff00-213d-45f0-b2ab-772936412f6b",
   "metadata": {},
   "outputs": [
    {
     "name": "stdin",
     "output_type": "stream",
     "text": [
      "Nhập vào điểm từ 0-10: 6\n"
     ]
    },
    {
     "name": "stdout",
     "output_type": "stream",
     "text": [
      "Học lực trung bình\n"
     ]
    }
   ],
   "source": [
    "#7\n",
    "score = float(input(\"Nhập vào điểm từ 0-10:\"))\n",
    "if score < 0 or score > 10:\n",
    "    print(\"Điểm nhập không hợp lệ\")\n",
    "else:\n",
    "    if score < 5:\n",
    "        print(\"Học lực yếu\")\n",
    "    elif score < 6.5:\n",
    "        print(\"Học lực trung bình\")\n",
    "    elif score < 8:\n",
    "        print(\"Học lực khá\")\n",
    "    else:\n",
    "        print(\"Học lực giỏi\")"
   ]
  },
  {
   "cell_type": "code",
   "execution_count": 40,
   "id": "aac27fc4-ae3c-4f01-ae98-69fae3c04341",
   "metadata": {},
   "outputs": [
    {
     "name": "stdin",
     "output_type": "stream",
     "text": [
      "Nhập vào năm: 2024\n"
     ]
    },
    {
     "name": "stdout",
     "output_type": "stream",
     "text": [
      "Đây là năm nhuận\n"
     ]
    }
   ],
   "source": [
    "#8\n",
    "year = int(input(\"Nhập vào năm:\"))\n",
    "if (year % 400 == 0) or (year % 4 == 0 and year % 100 != 0):\n",
    "    print(\"Đây là năm nhuận\")\n",
    "else:\n",
    "    print(\"Đây không phải năm nhuận\")"
   ]
  },
  {
   "cell_type": "code",
   "execution_count": 5,
   "id": "776074fb-355d-47df-b732-5cd297a52ff0",
   "metadata": {},
   "outputs": [
    {
     "name": "stdin",
     "output_type": "stream",
     "text": [
      "Nhập 1 số (0-9): 2\n"
     ]
    },
    {
     "name": "stdout",
     "output_type": "stream",
     "text": [
      "Hai\n"
     ]
    }
   ],
   "source": [
    "#9\n",
    "n = int(input(\"Nhập 1 số (0-9):\"))\n",
    "match n:\n",
    "   case 0:\n",
    "       print(\"Không\")\n",
    "   case 1:\n",
    "       print(\"Một\")\n",
    "   case 2:\n",
    "       print(\"Hai\")\n",
    "   case 3:\n",
    "       print(\"Ba\")\n",
    "   case 4:\n",
    "       print(\"Bốn\")\n",
    "   case 5:\n",
    "       print(\"Năm\")\n",
    "   case 6:\n",
    "       print(\"Sáu\")\n",
    "   case 7:\n",
    "       print(\"Bảy\")\n",
    "   case 8:\n",
    "       print(\"Tám\")\n",
    "   case 9:\n",
    "       print(\"Chín\")\n",
    "   case _:\n",
    "       print(\"Chỉ nhập số từ 0-9\")"
   ]
  },
  {
   "cell_type": "code",
   "execution_count": 2,
   "id": "37e0d2b5-1af0-43e8-a8e1-28038b8021cf",
   "metadata": {},
   "outputs": [
    {
     "name": "stdin",
     "output_type": "stream",
     "text": [
      "Nhập vào điểm thi: 10\n"
     ]
    },
    {
     "name": "stdout",
     "output_type": "stream",
     "text": [
      "Qua môn\n"
     ]
    }
   ],
   "source": [
    "#10\n",
    "score = float(input(\"Nhập vào điểm thi:\"))\n",
    "if score < 0 or score > 10:\n",
    "    print (\"Điểm nhập không hợp lệ\")\n",
    "else:\n",
    "    if score >= 4: \n",
    "        print(\"Qua môn\")\n",
    "    else:\n",
    "        print(\"Học lại\")"
   ]
  },
  {
   "cell_type": "code",
   "execution_count": 3,
   "id": "2dad69e9-6cf9-4161-978b-8768c5ddbb37",
   "metadata": {},
   "outputs": [
    {
     "name": "stdin",
     "output_type": "stream",
     "text": [
      "Nhập vào năm sinh: 1997\n"
     ]
    },
    {
     "name": "stdout",
     "output_type": "stream",
     "text": [
      "Đã đủ 18 tuổi\n"
     ]
    }
   ],
   "source": [
    "#11\n",
    "yearborn = int(input(\"Nhập vào năm sinh:\"))\n",
    "age = 2025 - yearborn\n",
    "if age >= 18:\n",
    "    print(\"Đã đủ 18 tuổi\")\n",
    "else:\n",
    "    print(\"Chưa đủ 18 tuổi\")"
   ]
  },
  {
   "cell_type": "code",
   "execution_count": null,
   "id": "8d0d0169-0745-4259-b1a9-dc24a76b6a83",
   "metadata": {},
   "outputs": [],
   "source": []
  }
 ],
 "metadata": {
  "kernelspec": {
   "display_name": "Python 3 (ipykernel)",
   "language": "python",
   "name": "python3"
  },
  "language_info": {
   "codemirror_mode": {
    "name": "ipython",
    "version": 3
   },
   "file_extension": ".py",
   "mimetype": "text/x-python",
   "name": "python",
   "nbconvert_exporter": "python",
   "pygments_lexer": "ipython3",
   "version": "3.13.5"
  }
 },
 "nbformat": 4,
 "nbformat_minor": 5
}
