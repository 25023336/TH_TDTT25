{
 "cells": [
  {
   "cell_type": "code",
   "execution_count": 1,
   "id": "1f892a3c-3315-44f8-a0fd-b5a5b2b14de0",
   "metadata": {},
   "outputs": [
    {
     "name": "stdin",
     "output_type": "stream",
     "text": [
      " 5\n"
     ]
    },
    {
     "name": "stdout",
     "output_type": "stream",
     "text": [
      "10.0\n"
     ]
    }
   ],
   "source": [
    "#bai 1\n",
    "a = float(input())\n",
    "T = 2 * a\n",
    "print(T)"
   ]
  },
  {
   "cell_type": "code",
   "execution_count": 2,
   "id": "b1d67219-dcfd-4ba7-b3bb-40a0b438c3b9",
   "metadata": {},
   "outputs": [
    {
     "name": "stdin",
     "output_type": "stream",
     "text": [
      "chieu rong:  30\n",
      "chieu dai:  50\n"
     ]
    },
    {
     "name": "stdout",
     "output_type": "stream",
     "text": [
      "793.50\n"
     ]
    }
   ],
   "source": [
    "#bai 2\n",
    "a = int(input(\"chieu rong: \"))\n",
    "b = int(input(\"chieu dai: \"))\n",
    "S = (a * b) - (((a/2)**2)*(3.14))\n",
    "print(f'{S:.2f}')"
   ]
  },
  {
   "cell_type": "code",
   "execution_count": 2,
   "id": "edb462eb-f100-456e-8a9e-588c09579552",
   "metadata": {},
   "outputs": [
    {
     "name": "stdin",
     "output_type": "stream",
     "text": [
      "Nhập 1 kí tự:  a\n"
     ]
    },
    {
     "name": "stdout",
     "output_type": "stream",
     "text": [
      "A"
     ]
    }
   ],
   "source": [
    "#bai 3\n",
    "c = input (\"Nhập 1 kí tự: \")\n",
    "for i in c:\n",
    "    if i.islower():\n",
    "        print(i.upper(),end='')\n",
    "    else:\n",
    "        print(i.lower(),end='')\n",
    "\n"
   ]
  },
  {
   "cell_type": "code",
   "execution_count": 4,
   "id": "18b6c342-738e-4ef5-a93a-a42bfcc1b99b",
   "metadata": {},
   "outputs": [
    {
     "name": "stdin",
     "output_type": "stream",
     "text": [
      "Nhập 1 kí tự:  a\n"
     ]
    },
    {
     "name": "stdout",
     "output_type": "stream",
     "text": [
      "'a' là kí tự alphabet\n"
     ]
    }
   ],
   "source": [
    "#bai 4\n",
    "c = input (\"Nhập 1 kí tự: \")\n",
    "if c.isalpha():\n",
    "    print(f\"'{c}' là kí tự alphabet\")\n",
    "else:\n",
    "    print(f\"'{c}' không phải là kí tự alphabet\")"
   ]
  },
  {
   "cell_type": "code",
   "execution_count": 8,
   "id": "fb115e2a-0bf3-4149-bff4-3bc1dc34ae92",
   "metadata": {},
   "outputs": [
    {
     "name": "stdin",
     "output_type": "stream",
     "text": [
      "Nhập 1 chữ cái hoa (A-Z):  F\n"
     ]
    },
    {
     "name": "stdout",
     "output_type": "stream",
     "text": [
      "Chữ cái thường liền trước 'f' là 'e'\n"
     ]
    }
   ],
   "source": [
    "#bai 5 \n",
    "c = input(\"Nhập 1 chữ cái hoa (A-Z): \")\n",
    "if c.isupper():\n",
    "    if c == 'A':\n",
    "        print(\"Trường hợp đặc biệt: trước 'a' không có chữ cái nào.\")\n",
    "    else:\n",
    "        prev_char = chr(ord(c.lower()) - 1)\n",
    "        print (f\"Chữ cái thường liền trước '{c.lower()}' là '{prev_char}'\")"
   ]
  },
  {
   "cell_type": "code",
   "execution_count": 3,
   "id": "61bfcf98-a376-43ef-baaa-8f06c4589332",
   "metadata": {},
   "outputs": [
    {
     "name": "stdin",
     "output_type": "stream",
     "text": [
      "Nhập cạnh a:  3\n",
      "Nhập cạnh b:  4\n",
      "Nhập cạnh c:  5\n"
     ]
    },
    {
     "name": "stdout",
     "output_type": "stream",
     "text": [
      "Diện tích tam giác: 6.0\n"
     ]
    }
   ],
   "source": [
    "#bai 6\n",
    "import math \n",
    "a = float(input(\"Nhập cạnh a: \"))\n",
    "b = float(input(\"Nhập cạnh b: \"))\n",
    "c = float(input(\"Nhập cạnh c: \"))\n",
    "if a>0 and b>0 and c>0 and (a+b>c) and (a+c>b) and (b+c>a):\n",
    "          p = (a+b+c)/2\n",
    "          S= math.sqrt (p * (p-a) * (p-b) * (p-c))\n",
    "          print(f\"Diện tích tam giác: {S:.1f}\")\n",
    "else:\n",
    "          print(\"Không phải 3 cạnh của tam giác\")"
   ]
  },
  {
   "cell_type": "code",
   "execution_count": 6,
   "id": "247ba7b2-c9ec-439f-a1e2-377870cca7b8",
   "metadata": {},
   "outputs": [
    {
     "name": "stdin",
     "output_type": "stream",
     "text": [
      "Nhập các kí tự:  abcdef\n"
     ]
    },
    {
     "name": "stdout",
     "output_type": "stream",
     "text": [
      "Chuỗi không hợp lệ\n"
     ]
    }
   ],
   "source": [
    "#bai 7\n",
    "chuoi = input(\"Nhập các kí tự: \")\n",
    "if chuoi.islower() and len(chuoi) >=20:\n",
    "    print(\"chữ cái thứ 5 là\", chuoi[4])\n",
    "    print(\"chữ cái thứ 9 là\", chuoi[8])\n",
    "else:\n",
    "    print(\"Chuỗi không hợp lệ\")"
   ]
  },
  {
   "cell_type": "code",
   "execution_count": null,
   "id": "728296c6-6b26-4fac-98e3-b5636d760bb6",
   "metadata": {},
   "outputs": [],
   "source": []
  }
 ],
 "metadata": {
  "kernelspec": {
   "display_name": "Python 3 (ipykernel)",
   "language": "python",
   "name": "python3"
  },
  "language_info": {
   "codemirror_mode": {
    "name": "ipython",
    "version": 3
   },
   "file_extension": ".py",
   "mimetype": "text/x-python",
   "name": "python",
   "nbconvert_exporter": "python",
   "pygments_lexer": "ipython3",
   "version": "3.13.5"
  }
 },
 "nbformat": 4,
 "nbformat_minor": 5
}
